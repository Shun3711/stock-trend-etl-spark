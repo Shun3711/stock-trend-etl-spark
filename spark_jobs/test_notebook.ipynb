{
 "cells": [
  {
   "cell_type": "code",
   "execution_count": 2,
   "id": "a6d6d438",
   "metadata": {},
   "outputs": [],
   "source": [
    "import yfinance as yf\n",
    "import pandas as pd\n",
    "from pyspark.sql import SparkSession\n",
    "from pyspark.sql.functions import col, lag, round as spark_round\n",
    "from pyspark.sql.window import Window\n",
    "import os\n",
    "\n",
    "os.environ[\"JAVA_HOME\"] = r\"C:\\\\Users\\\\Pupi\\\\AppData\\\\Local\\\\Programs\\\\Eclipse Adoptium\\\\jdk-8.0.452.9-hotspot\"\n",
    "os.environ[\"HADOOP_HOME\"] = r\"C:\\\\hadoop\"\n",
    "os.environ[\"SPARK_HOME\"] = r\"C:\\\\spark\\\\spark-3.3.2-bin-hadoop3\"\n",
    "\n"
   ]
  },
  {
   "cell_type": "code",
   "execution_count": null,
   "id": "6a7fad8d",
   "metadata": {},
   "outputs": [],
   "source": [
    "from pyspark.sql import SparkSession\n",
    "\n",
    "spark = SparkSession.builder \\\n",
    "    .appName(\"Test\") \\\n",
    "    .master(\"local[*]\") \\\n",
    "    .getOrCreate()\n",
    "\n",
    "# 対象銘柄（イギリス株）\n",
    "TICKERS = [\"VOD.L\", \"BP.L\", \"HSBA.L\"]\n",
    "START_DATE = \"2018-01-01\"\n",
    "END_DATE = \"2024-12-31\"\n",
    "\n",
    "# Sparkセッションの開始\n",
    "spark = SparkSession.builder \\\n",
    "    .appName(\"StockPriceETL\") \\\n",
    "    .getOrCreate()\n",
    "\n",
    "def fetch_stock_data(ticker):\n",
    "    df = yf.download(ticker, start=START_DATE, end=END_DATE, auto_adjust=False)\n",
    "    df = df.reset_index()\n",
    "    df[\"Ticker\"] = ticker\n",
    "    return df[[\"Date\", \"Ticker\", \"Open\", \"High\", \"Low\", \"Close\", \"Adj Close\", \"Volume\"]]\n",
    "\n",
    "\n",
    "# 全銘柄のデータを結合\n",
    "all_data = pd.concat([fetch_stock_data(ticker) for ticker in TICKERS])\n",
    "\n",
    "# pandas → Sparkへ変換\n",
    "spark_df = spark.createDataFrame(all_data)\n",
    "\n",
    "# 欠損除去\n",
    "spark_df = spark_df.dropna()\n",
    "\n",
    "# 日次リターン（%）を計算\n",
    "window_spec = Window.partitionBy(\"Ticker\").orderBy(\"Date\")\n",
    "spark_df = spark_df.withColumn(\"Prev_Close\", lag(\"Close\").over(window_spec))\n",
    "spark_df = spark_df.withColumn(\n",
    "    \"Return(%)\",\n",
    "    spark_round((col(\"Close\") - col(\"Prev_Close\")) / col(\"Prev_Close\") * 100, 2)\n",
    ")\n",
    "\n",
    "# 出力パス\n",
    "output_path = \"../data/processed/stock_prices.parquet\"\n",
    "\n",
    "# 保存（Parquet形式）\n",
    "spark_df.write.mode(\"overwrite\").parquet(output_path)\n",
    "\n",
    "print(f\"✅ データ保存完了: {output_path}\")\n",
    "\n",
    "spark.stop()"
   ]
  }
 ],
 "metadata": {
  "kernelspec": {
   "display_name": "venv",
   "language": "python",
   "name": "python3"
  },
  "language_info": {
   "codemirror_mode": {
    "name": "ipython",
    "version": 3
   },
   "file_extension": ".py",
   "mimetype": "text/x-python",
   "name": "python",
   "nbconvert_exporter": "python",
   "pygments_lexer": "ipython3",
   "version": "3.10.11"
  }
 },
 "nbformat": 4,
 "nbformat_minor": 5
}
