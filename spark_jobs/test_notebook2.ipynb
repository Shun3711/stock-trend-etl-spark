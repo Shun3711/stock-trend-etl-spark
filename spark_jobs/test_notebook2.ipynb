{
 "cells": [
  {
   "cell_type": "code",
   "execution_count": null,
   "id": "a6d6d438",
   "metadata": {},
   "outputs": [],
   "source": [
    "import yfinance as yf\n",
    "import pandas as pd\n",
    "from pyspark.sql import SparkSession\n",
    "from pyspark.sql.functions import col, lag, round as spark_round\n",
    "from pyspark.sql.window import Window\n",
    "import os\n",
    "\n",
    "# 環境変数設定（重要: WindowsのSparkでParquet書き込み対策）\n",
    "try:\n",
    "    import env_setup\n",
    "except ImportError:\n",
    "    pass  # なければ無視"
   ]
  },
  {
   "cell_type": "code",
   "execution_count": 3,
   "id": "58eb9c8b",
   "metadata": {},
   "outputs": [],
   "source": [
    "spark = SparkSession.builder \\\n",
    "    .appName(\"LoadParquetExample\") \\\n",
    "    .master(\"local[*]\") \\\n",
    "    .getOrCreate()"
   ]
  },
  {
   "cell_type": "code",
   "execution_count": 4,
   "id": "574ab12c",
   "metadata": {},
   "outputs": [],
   "source": [
    "# 出力パス\n",
    "# output_path = \"../data/processed/stock_prices.parquet\"\n",
    "output_path = r\"C:\\Users\\Pupi\\Desktop\\Git project\\stock-trend-etl-spark\\data\\processed\\stock_prices.parquet\"\n",
    "\n",
    "df = spark.read.parquet(\"../data/processed/stock_prices.parquet\")\n"
   ]
  },
  {
   "cell_type": "code",
   "execution_count": 5,
   "id": "4d9da9d4",
   "metadata": {},
   "outputs": [
    {
     "name": "stdout",
     "output_type": "stream",
     "text": [
      "+-------------------+------+-----------------+-----------------+-----------------+-----------------+-----------------+--------+-----------------+---------+\n",
      "|               Date|Ticker|             Open|             High|              Low|            Close|        Adj Close|  Volume|       Prev_Close|Return(%)|\n",
      "+-------------------+------+-----------------+-----------------+-----------------+-----------------+-----------------+--------+-----------------+---------+\n",
      "|2018-01-02 00:00:00|  BP.L|524.2000122070312|524.2999877929688|514.2999877929688|            517.5|515.2674560546875|20152548|             null|     null|\n",
      "|2018-01-03 00:00:00|  BP.L|519.2000122070312|525.5999755859375|518.7999877929688|524.2000122070312|521.9384155273438|27207749|            517.5|     1.29|\n",
      "|2018-01-04 00:00:00|  BP.L|529.0999755859375|530.5999755859375|527.2000122070312|            530.0|527.7134399414062|32592520|524.2000122070312|     1.11|\n",
      "|2018-01-05 00:00:00|  BP.L|            530.0|531.2999877929688|526.7000122070312|529.5999755859375| 527.315185546875|24779506|            530.0|    -0.08|\n",
      "|2018-01-08 00:00:00|  BP.L|529.4000244140625|530.2999877929688|526.9000244140625|527.4000244140625|525.1246948242188|29326873|529.5999755859375|    -0.42|\n",
      "+-------------------+------+-----------------+-----------------+-----------------+-----------------+-----------------+--------+-----------------+---------+\n",
      "only showing top 5 rows\n",
      "\n"
     ]
    }
   ],
   "source": [
    "df.show(5)\n"
   ]
  },
  {
   "cell_type": "code",
   "execution_count": null,
   "id": "cbd829be",
   "metadata": {},
   "outputs": [],
   "source": []
  }
 ],
 "metadata": {
  "kernelspec": {
   "display_name": "venv",
   "language": "python",
   "name": "python3"
  },
  "language_info": {
   "codemirror_mode": {
    "name": "ipython",
    "version": 3
   },
   "file_extension": ".py",
   "mimetype": "text/x-python",
   "name": "python",
   "nbconvert_exporter": "python",
   "pygments_lexer": "ipython3",
   "version": "3.10.11"
  }
 },
 "nbformat": 4,
 "nbformat_minor": 5
}
