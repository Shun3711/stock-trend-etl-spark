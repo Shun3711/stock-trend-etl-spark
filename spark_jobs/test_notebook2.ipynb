{
 "cells": [
  {
   "cell_type": "code",
   "execution_count": 1,
   "id": "a6d6d438",
   "metadata": {},
   "outputs": [],
   "source": [
    "import yfinance as yf\n",
    "import pandas as pd\n",
    "from pyspark.sql import SparkSession\n",
    "from pyspark.sql.functions import col, lag, round as spark_round\n",
    "from pyspark.sql.window import Window\n",
    "import os\n",
    "\n",
    "os.environ[\"JAVA_HOME\"] = r\"C:\\\\Users\\\\Pupi\\\\AppData\\\\Local\\\\Programs\\\\Eclipse Adoptium\\\\jdk-8.0.452.9-hotspot\"\n",
    "os.environ[\"HADOOP_HOME\"] = r\"C:\\\\hadoop\"\n",
    "os.environ[\"SPARK_HOME\"] = r\"C:\\\\spark\\\\spark-3.3.2-bin-hadoop3\"\n",
    "os.environ[\"PYSPARK_PYTHON\"] = r\"C:\\\\Users\\\\Pupi\\\\Desktop\\\\Git project\\\\stock-trend-etl-spark\\\\venv\\\\Scripts\\\\python.exe\"\n",
    "os.environ[\"HADOOP_OPTS\"] = r\"-Djava.library.path=C:\\hadoop\\bin\"\n",
    "os.environ[\"PATH\"] += r\";C:\\hadoop\\bin\""
   ]
  },
  {
   "cell_type": "code",
   "execution_count": 2,
   "id": "6a7fad8d",
   "metadata": {},
   "outputs": [
    {
     "name": "stdout",
     "output_type": "stream",
     "text": [
      "<pyspark.sql.session.SparkSession object at 0x0000021FAE2678E0>\n"
     ]
    }
   ],
   "source": [
    "from pyspark.sql import SparkSession\n",
    "\n",
    "spark = SparkSession.builder \\\n",
    "    .appName(\"Test\") \\\n",
    "    .master(\"local[*]\") \\\n",
    "    .getOrCreate()\n",
    "\n",
    "print(spark)"
   ]
  },
  {
   "cell_type": "code",
   "execution_count": 3,
   "id": "219c31f6",
   "metadata": {},
   "outputs": [
    {
     "name": "stderr",
     "output_type": "stream",
     "text": [
      "[*********************100%***********************]  1 of 1 completed\n"
     ]
    },
    {
     "data": {
      "text/plain": [
       "[('Date', ''),\n",
       " ('Adj Close', 'VOD.L'),\n",
       " ('Close', 'VOD.L'),\n",
       " ('High', 'VOD.L'),\n",
       " ('Low', 'VOD.L'),\n",
       " ('Open', 'VOD.L'),\n",
       " ('Volume', 'VOD.L')]"
      ]
     },
     "metadata": {},
     "output_type": "display_data"
    },
    {
     "data": {
      "text/html": [
       "<div>\n",
       "<style scoped>\n",
       "    .dataframe tbody tr th:only-of-type {\n",
       "        vertical-align: middle;\n",
       "    }\n",
       "\n",
       "    .dataframe tbody tr th {\n",
       "        vertical-align: top;\n",
       "    }\n",
       "\n",
       "    .dataframe thead tr th {\n",
       "        text-align: left;\n",
       "    }\n",
       "</style>\n",
       "<table border=\"1\" class=\"dataframe\">\n",
       "  <thead>\n",
       "    <tr>\n",
       "      <th>Price</th>\n",
       "      <th>Date</th>\n",
       "      <th>Adj Close</th>\n",
       "      <th>Close</th>\n",
       "      <th>High</th>\n",
       "      <th>Low</th>\n",
       "      <th>Open</th>\n",
       "      <th>Volume</th>\n",
       "    </tr>\n",
       "    <tr>\n",
       "      <th>Ticker</th>\n",
       "      <th></th>\n",
       "      <th>VOD.L</th>\n",
       "      <th>VOD.L</th>\n",
       "      <th>VOD.L</th>\n",
       "      <th>VOD.L</th>\n",
       "      <th>VOD.L</th>\n",
       "      <th>VOD.L</th>\n",
       "    </tr>\n",
       "  </thead>\n",
       "  <tbody>\n",
       "    <tr>\n",
       "      <th>0</th>\n",
       "      <td>2018-01-02</td>\n",
       "      <td>232.580841</td>\n",
       "      <td>233.800003</td>\n",
       "      <td>235.300003</td>\n",
       "      <td>233.100006</td>\n",
       "      <td>235.149994</td>\n",
       "      <td>28518111</td>\n",
       "    </tr>\n",
       "    <tr>\n",
       "      <th>1</th>\n",
       "      <td>2018-01-03</td>\n",
       "      <td>232.232651</td>\n",
       "      <td>233.449997</td>\n",
       "      <td>234.399994</td>\n",
       "      <td>232.050003</td>\n",
       "      <td>234.399994</td>\n",
       "      <td>36335155</td>\n",
       "    </tr>\n",
       "    <tr>\n",
       "      <th>2</th>\n",
       "      <td>2018-01-04</td>\n",
       "      <td>234.073013</td>\n",
       "      <td>235.300003</td>\n",
       "      <td>235.300003</td>\n",
       "      <td>233.000000</td>\n",
       "      <td>234.250000</td>\n",
       "      <td>65362950</td>\n",
       "    </tr>\n",
       "    <tr>\n",
       "      <th>3</th>\n",
       "      <td>2018-01-05</td>\n",
       "      <td>235.565216</td>\n",
       "      <td>236.800003</td>\n",
       "      <td>236.899994</td>\n",
       "      <td>234.699997</td>\n",
       "      <td>236.000000</td>\n",
       "      <td>69338309</td>\n",
       "    </tr>\n",
       "    <tr>\n",
       "      <th>4</th>\n",
       "      <td>2018-01-08</td>\n",
       "      <td>236.410751</td>\n",
       "      <td>237.649994</td>\n",
       "      <td>238.800003</td>\n",
       "      <td>236.250000</td>\n",
       "      <td>236.600006</td>\n",
       "      <td>58835938</td>\n",
       "    </tr>\n",
       "    <tr>\n",
       "      <th>...</th>\n",
       "      <td>...</td>\n",
       "      <td>...</td>\n",
       "      <td>...</td>\n",
       "      <td>...</td>\n",
       "      <td>...</td>\n",
       "      <td>...</td>\n",
       "      <td>...</td>\n",
       "    </tr>\n",
       "    <tr>\n",
       "      <th>1762</th>\n",
       "      <td>2024-12-20</td>\n",
       "      <td>66.480278</td>\n",
       "      <td>66.500000</td>\n",
       "      <td>66.940002</td>\n",
       "      <td>66.120003</td>\n",
       "      <td>66.839996</td>\n",
       "      <td>153387989</td>\n",
       "    </tr>\n",
       "    <tr>\n",
       "      <th>1763</th>\n",
       "      <td>2024-12-23</td>\n",
       "      <td>66.460289</td>\n",
       "      <td>66.480003</td>\n",
       "      <td>66.919998</td>\n",
       "      <td>66.279999</td>\n",
       "      <td>66.919998</td>\n",
       "      <td>63293094</td>\n",
       "    </tr>\n",
       "    <tr>\n",
       "      <th>1764</th>\n",
       "      <td>2024-12-24</td>\n",
       "      <td>67.739906</td>\n",
       "      <td>67.760002</td>\n",
       "      <td>67.940002</td>\n",
       "      <td>66.620003</td>\n",
       "      <td>66.800003</td>\n",
       "      <td>27798312</td>\n",
       "    </tr>\n",
       "    <tr>\n",
       "      <th>1765</th>\n",
       "      <td>2024-12-27</td>\n",
       "      <td>67.320030</td>\n",
       "      <td>67.339996</td>\n",
       "      <td>67.959999</td>\n",
       "      <td>66.800003</td>\n",
       "      <td>67.519997</td>\n",
       "      <td>60270857</td>\n",
       "    </tr>\n",
       "    <tr>\n",
       "      <th>1766</th>\n",
       "      <td>2024-12-30</td>\n",
       "      <td>67.200066</td>\n",
       "      <td>67.220001</td>\n",
       "      <td>67.500000</td>\n",
       "      <td>66.919998</td>\n",
       "      <td>67.300003</td>\n",
       "      <td>40884277</td>\n",
       "    </tr>\n",
       "  </tbody>\n",
       "</table>\n",
       "<p>1767 rows × 7 columns</p>\n",
       "</div>"
      ],
      "text/plain": [
       "Price        Date   Adj Close       Close        High         Low        Open  \\\n",
       "Ticker                  VOD.L       VOD.L       VOD.L       VOD.L       VOD.L   \n",
       "0      2018-01-02  232.580841  233.800003  235.300003  233.100006  235.149994   \n",
       "1      2018-01-03  232.232651  233.449997  234.399994  232.050003  234.399994   \n",
       "2      2018-01-04  234.073013  235.300003  235.300003  233.000000  234.250000   \n",
       "3      2018-01-05  235.565216  236.800003  236.899994  234.699997  236.000000   \n",
       "4      2018-01-08  236.410751  237.649994  238.800003  236.250000  236.600006   \n",
       "...           ...         ...         ...         ...         ...         ...   \n",
       "1762   2024-12-20   66.480278   66.500000   66.940002   66.120003   66.839996   \n",
       "1763   2024-12-23   66.460289   66.480003   66.919998   66.279999   66.919998   \n",
       "1764   2024-12-24   67.739906   67.760002   67.940002   66.620003   66.800003   \n",
       "1765   2024-12-27   67.320030   67.339996   67.959999   66.800003   67.519997   \n",
       "1766   2024-12-30   67.200066   67.220001   67.500000   66.919998   67.300003   \n",
       "\n",
       "Price      Volume  \n",
       "Ticker      VOD.L  \n",
       "0        28518111  \n",
       "1        36335155  \n",
       "2        65362950  \n",
       "3        69338309  \n",
       "4        58835938  \n",
       "...           ...  \n",
       "1762    153387989  \n",
       "1763     63293094  \n",
       "1764     27798312  \n",
       "1765     60270857  \n",
       "1766     40884277  \n",
       "\n",
       "[1767 rows x 7 columns]"
      ]
     },
     "metadata": {},
     "output_type": "display_data"
    }
   ],
   "source": [
    "# 銘柄設定\n",
    "TICKERS = [\"VOD.L\", \"BP.L\", \"HSBA.L\"]\n",
    "START_DATE = \"2018-01-01\"\n",
    "END_DATE = \"2024-12-31\"\n",
    "\n",
    "df = yf.download(\"VOD.L\", start=START_DATE, end=END_DATE, auto_adjust=False)\n",
    "df = df.reset_index()\n",
    "display([column for column in df.columns])\n",
    "display(df)"
   ]
  },
  {
   "cell_type": "code",
   "execution_count": 4,
   "id": "8d5ec6e7",
   "metadata": {},
   "outputs": [
    {
     "name": "stderr",
     "output_type": "stream",
     "text": [
      "[*********************100%***********************]  1 of 1 completed\n",
      "[*********************100%***********************]  1 of 1 completed\n",
      "[*********************100%***********************]  1 of 1 completed"
     ]
    },
    {
     "name": "stdout",
     "output_type": "stream",
     "text": [
      "           Date  Ticker        Open        High         Low       Close  \\\n",
      "0    2018-01-02   VOD.L  235.149994  235.300003  233.100006  233.800003   \n",
      "1    2018-01-03   VOD.L  234.399994  234.399994  232.050003  233.449997   \n",
      "2    2018-01-04   VOD.L  234.250000  235.300003  233.000000  235.300003   \n",
      "3    2018-01-05   VOD.L  236.000000  236.899994  234.699997  236.800003   \n",
      "4    2018-01-08   VOD.L  236.600006  238.800003  236.250000  237.649994   \n",
      "...         ...     ...         ...         ...         ...         ...   \n",
      "1762 2024-12-20  HSBA.L  764.400024  765.599976  749.599976  760.799988   \n",
      "1763 2024-12-23  HSBA.L  767.400024  770.000000  761.599976  765.099976   \n",
      "1764 2024-12-24  HSBA.L  768.900024  772.799988  767.099976  772.000000   \n",
      "1765 2024-12-27  HSBA.L  773.799988  782.500000  771.500000  777.099976   \n",
      "1766 2024-12-30  HSBA.L  775.900024  781.700012  773.500000  781.700012   \n",
      "\n",
      "       Adj Close    Volume  \n",
      "0     232.580841  28518111  \n",
      "1     232.232651  36335155  \n",
      "2     234.073013  65362950  \n",
      "3     235.565216  69338309  \n",
      "4     236.410751  58835938  \n",
      "...          ...       ...  \n",
      "1762  760.430054  75955984  \n",
      "1763  764.727966  13697932  \n",
      "1764  771.624634   3604795  \n",
      "1765  776.722107  13069986  \n",
      "1766  781.319946  11565121  \n",
      "\n",
      "[5301 rows x 8 columns]\n"
     ]
    },
    {
     "name": "stderr",
     "output_type": "stream",
     "text": [
      "\n"
     ]
    }
   ],
   "source": [
    "# 対象銘柄（イギリス株）\n",
    "TICKERS = [\"VOD.L\", \"BP.L\", \"HSBA.L\"]\n",
    "START_DATE = \"2018-01-01\"\n",
    "END_DATE = \"2024-12-31\"\n",
    "\n",
    "def fetch_stock_data(ticker):\n",
    "    df = yf.download(ticker, start=START_DATE, end=END_DATE, auto_adjust=False)\n",
    "    df = df.reset_index()\n",
    "    df.columns = [f\"{col[0]}\" for col in df.columns]\n",
    "    df[\"Ticker\"] = ticker\n",
    "    return df[[\"Date\", \"Ticker\", \"Open\", \"High\", \"Low\", \"Close\", \"Adj Close\", \"Volume\"]]\n",
    "\n",
    "\n",
    "# 全銘柄のデータを結合\n",
    "all_data = pd.concat([fetch_stock_data(ticker) for ticker in TICKERS])\n",
    "print(all_data)"
   ]
  },
  {
   "cell_type": "code",
   "execution_count": 5,
   "id": "b0344b2f",
   "metadata": {},
   "outputs": [
    {
     "name": "stderr",
     "output_type": "stream",
     "text": [
      "c:\\Users\\Pupi\\Desktop\\Git project\\stock-trend-etl-spark\\venv\\lib\\site-packages\\pyspark\\sql\\pandas\\conversion.py:474: FutureWarning: iteritems is deprecated and will be removed in a future version. Use .items instead.\n",
      "  for column, series in pdf.iteritems():\n",
      "c:\\Users\\Pupi\\Desktop\\Git project\\stock-trend-etl-spark\\venv\\lib\\site-packages\\pyspark\\sql\\pandas\\conversion.py:486: FutureWarning: iteritems is deprecated and will be removed in a future version. Use .items instead.\n",
      "  for column, series in pdf.iteritems():\n"
     ]
    }
   ],
   "source": [
    "# pandas → Sparkへ変換\n",
    "spark_df = spark.createDataFrame(all_data)\n",
    "\n",
    "# 欠損除去\n",
    "spark_df = spark_df.dropna()\n",
    "\n",
    "# 日次リターン（%）を計算\n",
    "window_spec = Window.partitionBy(\"Ticker\").orderBy(\"Date\")\n",
    "spark_df = spark_df.withColumn(\"Prev_Close\", lag(\"Close\").over(window_spec))\n",
    "spark_df = spark_df.withColumn(\n",
    "    \"Return(%)\",\n",
    "    spark_round((col(\"Close\") - col(\"Prev_Close\")) / col(\"Prev_Close\") * 100, 2)\n",
    ")\n"
   ]
  },
  {
   "cell_type": "code",
   "execution_count": 6,
   "id": "db5b8e7f",
   "metadata": {},
   "outputs": [
    {
     "name": "stdout",
     "output_type": "stream",
     "text": [
      "c:\\Users\\Pupi\\Desktop\\Git project\\stock-trend-etl-spark\\spark_jobs\n"
     ]
    }
   ],
   "source": [
    "print(os.getcwd())"
   ]
  },
  {
   "cell_type": "code",
   "execution_count": 7,
   "id": "574ab12c",
   "metadata": {},
   "outputs": [
    {
     "name": "stdout",
     "output_type": "stream",
     "text": [
      "✅ データ保存完了: C:\\Users\\Pupi\\Desktop\\Git project\\stock-trend-etl-spark\\data\\processed\\stock_prices.parquet\n"
     ]
    }
   ],
   "source": [
    "# 出力パス\n",
    "# output_path = \"../data/processed/stock_prices.parquet\"\n",
    "output_path = r\"C:\\Users\\Pupi\\Desktop\\Git project\\stock-trend-etl-spark\\data\\processed\\stock_prices.parquet\"\n",
    "\n",
    "# 保存（Parquet形式）\n",
    "spark_df.write.mode(\"overwrite\").parquet(output_path)\n",
    "\n",
    "print(f\"✅ データ保存完了: {output_path}\")\n",
    "\n",
    "spark.stop()"
   ]
  },
  {
   "cell_type": "code",
   "execution_count": null,
   "id": "4d9da9d4",
   "metadata": {},
   "outputs": [],
   "source": []
  },
  {
   "cell_type": "code",
   "execution_count": null,
   "id": "cbd829be",
   "metadata": {},
   "outputs": [],
   "source": []
  }
 ],
 "metadata": {
  "kernelspec": {
   "display_name": "venv",
   "language": "python",
   "name": "python3"
  },
  "language_info": {
   "codemirror_mode": {
    "name": "ipython",
    "version": 3
   },
   "file_extension": ".py",
   "mimetype": "text/x-python",
   "name": "python",
   "nbconvert_exporter": "python",
   "pygments_lexer": "ipython3",
   "version": "3.10.11"
  }
 },
 "nbformat": 4,
 "nbformat_minor": 5
}
